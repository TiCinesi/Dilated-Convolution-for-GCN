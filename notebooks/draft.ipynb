{
 "cells": [
  {
   "cell_type": "code",
   "execution_count": 125,
   "metadata": {},
   "outputs": [],
   "source": [
    "import networkx as nx\n",
    "import random \n",
    "import torch\n",
    "import math"
   ]
  },
  {
   "cell_type": "code",
   "execution_count": 126,
   "metadata": {},
   "outputs": [],
   "source": [
    "G = nx.Graph()\n",
    "\n",
    "nx.add_path(G, [0,1,3,5])\n",
    "nx.add_path(G, [1,4,5])\n",
    "nx.add_path(G, [0,2,3])\n",
    "nx.add_path(G, [0,2,4])\n",
    "nx.add_path(G, [0,1,4])\n",
    "nx.add_path(G, [0,6,7, 8])"
   ]
  },
  {
   "cell_type": "code",
   "execution_count": 127,
   "metadata": {},
   "outputs": [],
   "source": [
    "def random_neighbours(l):\n",
    "    a = list(l)\n",
    "    random.shuffle(a)\n",
    "    return iter(a)"
   ]
  },
  {
   "cell_type": "code",
   "execution_count": 128,
   "metadata": {},
   "outputs": [],
   "source": [
    "k2 = 2\n",
    "k1 = 1\n",
    "num_samples = 3"
   ]
  },
  {
   "cell_type": "code",
   "execution_count": 129,
   "metadata": {},
   "outputs": [],
   "source": [
    "distance_graphs = []\n",
    "distance_graphs_attr_ids = [] # k2* [num_rand_sample, num_edges, d]\n",
    "for _ in range(k2):\n",
    "    distance_graphs.append(nx.Graph())"
   ]
  },
  {
   "cell_type": "code",
   "execution_count": 130,
   "metadata": {},
   "outputs": [
    {
     "data": {
      "text/plain": [
       "torch.Size([11, 2])"
      ]
     },
     "execution_count": 130,
     "metadata": {},
     "output_type": "execute_result"
    }
   ],
   "source": [
    "edge_attr = torch.tensor([[0, 10], [0,20], [1, 2], [4,5], [5,6], [7,8], [9,10], [100, 200], [300, 400], [100, 200], [300, 400]]) # torch.size(num_edge, feature_size)\n",
    "edge_attr.shape"
   ]
  },
  {
   "cell_type": "code",
   "execution_count": 131,
   "metadata": {},
   "outputs": [],
   "source": [
    "edge_ids = {}\n",
    "for i, e in enumerate(G.edges()):\n",
    "    edge_ids[e] = i\n",
    "    edge_ids[(e[1], e[0])] = i #only for test\n"
   ]
  },
  {
   "cell_type": "code",
   "execution_count": 132,
   "metadata": {},
   "outputs": [],
   "source": [
    "for i in range(k2): \n",
    "    distance_graphs_attr_ids.append([])\n",
    "    for s in range(num_samples):\n",
    "        distance_graphs_attr_ids[i].append([])\n",
    "\n",
    "\n",
    "for v in range(G.number_of_nodes()):\n",
    "    \n",
    "    dist_layes = None\n",
    "    for s in range(num_samples):\n",
    "        if s < 1: #compute only on first sample\n",
    "            dist_layes = dict(enumerate(nx.bfs_layers(G, [v])))\n",
    "\n",
    "        bsf_tree = nx.reverse(nx.bfs_tree(G, source=v, depth_limit=None, sort_neighbors=random_neighbours))\n",
    "        \n",
    "        \n",
    "        for i in range(k2):\n",
    "            d = 2*math.pow(3, i)*k1\n",
    "                    \n",
    "            if not d in dist_layes.keys(): #new\n",
    "                continue\n",
    "\n",
    "            for u in dist_layes[d]:\n",
    "                if s < 1: #save only on first sample\n",
    "                    distance_graphs[i].add_edge(v, u)\n",
    "\n",
    "                edges_on_u_v_path = list(nx.dfs_edges(bsf_tree, source=u))\n",
    "                \n",
    "                edge_feature_id = []\n",
    "                for e in edges_on_u_v_path:\n",
    "                    edge_feature_id.append(edge_ids[e])\n",
    "                distance_graphs_attr_ids[i][s].append(edge_feature_id)\n"
   ]
  },
  {
   "cell_type": "code",
   "execution_count": 133,
   "metadata": {},
   "outputs": [],
   "source": [
    "for i in range(k2):\n",
    "    idx = torch.tensor(distance_graphs_attr_ids[i])\n",
    " \n",
    "    if idx.shape[1] == 0: #not path for layer i\n",
    "        pass \n",
    "    else:\n",
    "        distance_graph_attr = edge_attr[idx]\n"
   ]
  }
 ],
 "metadata": {
  "kernelspec": {
   "display_name": "Python 3.8.15 ('DL-project')",
   "language": "python",
   "name": "python3"
  },
  "language_info": {
   "codemirror_mode": {
    "name": "ipython",
    "version": 3
   },
   "file_extension": ".py",
   "mimetype": "text/x-python",
   "name": "python",
   "nbconvert_exporter": "python",
   "pygments_lexer": "ipython3",
   "version": "3.8.15"
  },
  "orig_nbformat": 4,
  "vscode": {
   "interpreter": {
    "hash": "0ee38be4b4250981cce4d59cef6d089c1563ec2440158cf188f3c535e41f9e82"
   }
  }
 },
 "nbformat": 4,
 "nbformat_minor": 2
}
