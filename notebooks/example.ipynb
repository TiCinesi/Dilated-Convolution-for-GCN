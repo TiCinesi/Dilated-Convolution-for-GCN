{
 "cells": [
  {
   "cell_type": "code",
   "execution_count": 2,
   "metadata": {
    "scrolled": false
   },
   "outputs": [
    {
     "name": "stderr",
     "output_type": "stream",
     "text": [
      "/tmp/ipykernel_124147/930606004.py:4: DeprecationWarning: Importing display from IPython.core.display is deprecated since IPython 7.14, please import from IPython display\n",
      "  from IPython.core.display import display, HTML\n"
     ]
    },
    {
     "data": {
      "text/html": [
       "<style>.container { width:95% !important; }</style>"
      ],
      "text/plain": [
       "<IPython.core.display.HTML object>"
      ]
     },
     "metadata": {},
     "output_type": "display_data"
    }
   ],
   "source": [
    "# Example analysis for a batch of experiments\n",
    "# We found the functionalities below is the most useful in practice\n",
    "# It can automatically provides an overview of the trade-off for each design dimension\n",
    "from IPython.core.display import display, HTML\n",
    "\n",
    "display(HTML(\"<style>.container { width:95% !important; }</style>\"))\n",
    "import pandas as pd\n",
    "import numpy as np\n",
    "import seaborn as sns\n",
    "import matplotlib.pyplot as plt\n",
    "import copy\n",
    "from scipy.stats import rankdata\n",
    "from matplotlib.ticker import MaxNLocator\n",
    "\n",
    "%matplotlib inline\n",
    "sns.set(style='ticks',context='poster')\n",
    "pd.set_option('display.max_columns', 500)\n",
    "pd.set_option('display.max_rows', 500)\n",
    "np.set_printoptions(precision=3, linewidth=200, suppress=True)\n",
    "\n",
    "\n",
    "def list_exclude(a, b):\n",
    "    return [item for item in a if item not in b]\n",
    "\n",
    "def chunks(lst, n):\n",
    "    \"\"\"Yield successive n-sized chunks from lst.\"\"\"\n",
    "    for i in range(0, len(lst), n):\n",
    "        yield lst[i:i + n]\n",
    "        \n",
    "column_exclude_options = ['format','dataset', 'task', 'trans', 'feature', 'label',\n",
    "            'epoch', 'loss', 'loss_std', \n",
    "            'params', 'time_iter', 'time_iter_std', 'accuracy', 'accuracy_std', \n",
    "            'precision', 'precision_std', 'recall', 'recall_std', 'f1', 'f1_std', 'auc', 'auc_std']\n",
    "\n",
    "def name_mapping(name):\n",
    "    # you can add additional name mapping for your customize configurations\n",
    "    mapping = {'act': 'Activation', 'bn':'Batch Normalization', 'drop':'Dropout', 'agg':'Aggregation',\n",
    "                'l_mp':'MP layers', 'l_pre':'Pre-process layers', 'l_post': 'Post-process layers', 'stage': 'Layer connectivity',\n",
    "                'lr': 'Learning rate', 'batch':'Batch size', 'optim': 'Optimizer', 'epoch': 'Training epochs', \n",
    "                'direct': 'Direction', 'head':'Multi-task heads', 'l_final':'Att final', 'l_type':'layer_type',\n",
    "               'l_finalbn': 'Final BN', 'task': 'Task', 'subgraph':'subgraph', 'margin':'margin',\n",
    "               'order':'order', 'norm':'norm'}\n",
    "    if name in mapping:\n",
    "        return mapping[name]\n",
    "    else:\n",
    "        return name\n",
    "\n",
    "def get_acc(df_pivot, name, ax, plot_type='performance', has_y=True, rank_resolution=0.001, verbose=False):\n",
    "    accs_np = df_pivot.fillna(df_pivot.min()).values.round(4)\n",
    "    options = df_pivot.columns.values\n",
    "\n",
    "    ranks_raw = {'Model ID':[], 'Accuracy':[], 'Acc. Ranking':[], name_mapping(name):[]}\n",
    "    \n",
    "    for i,row in enumerate(accs_np):\n",
    "        # (1) rank is asceneding, so we neg the row\n",
    "        rank_base = -row\n",
    "        med = np.median(rank_base)\n",
    "        for j in range(len(rank_base)):\n",
    "            if abs(rank_base[j]-med) <= rank_resolution:\n",
    "                rank_base[j] = med\n",
    "        rank = rankdata(rank_base, method='min')\n",
    "        for j in range(len(rank)):\n",
    "            ranks_raw['Model ID'].append(i)\n",
    "            ranks_raw['Accuracy'].append(accs_np[i,j])\n",
    "            ranks_raw['Acc. Ranking'].append(rank[j])\n",
    "            ranks_raw[name_mapping(name)].append(options[j])\n",
    "    \n",
    "    ranks_raw = pd.DataFrame(data=ranks_raw)     \n",
    "    with sns.color_palette(\"muted\"):\n",
    "        if plot_type=='performance':\n",
    "            splot = sns.violinplot(x=name_mapping(name), y=\"Accuracy\",inner=\"box\", data=ranks_raw, cut=0, ax=ax)\n",
    "            ax.set_xlabel('',fontsize=48)\n",
    "            if not has_y:\n",
    "                ax.set_ylabel('',fontsize=48)\n",
    "            else:\n",
    "                ax.set_ylabel('AUC Dist.',fontsize=48)\n",
    "        elif plot_type=='rank_bar':\n",
    "            splot = sns.barplot(x=name_mapping(name), y=\"Acc. Ranking\",data=ranks_raw, ax=ax)\n",
    "            ax.set_ylim(bottom=1)\n",
    "            ax.set_yticks([1,2])\n",
    "            ax.set_xlabel('',fontsize=48)\n",
    "            if not has_y:\n",
    "                ax.set_ylabel('',fontsize=48)\n",
    "            else:\n",
    "                ax.set_ylabel('Rank Average',fontsize=48)\n",
    "        elif plot_type=='rank_violin':\n",
    "            sns.violinplot(x=name_mapping(name), y=\"Acc. Ranking\",inner=\"box\", data=ranks_raw, cut=0, ax=ax)\n",
    "            ax.set_ylim(bottom=1)\n",
    "            ax.yaxis.set_major_locator(MaxNLocator(integer=True))\n",
    "            if not has_y:\n",
    "                ax.set_ylabel('',fontsize=48)\n",
    "            else:\n",
    "                ax.set_ylabel('Rank Dist.',fontsize=48)\n",
    "        ax.xaxis.label.set_size(48)\n",
    "        ax.yaxis.label.set_size(48)\n",
    "        for tick in ax.xaxis.get_major_ticks():\n",
    "            tick.label.set_fontsize(40)\n",
    "        for tick in ax.yaxis.get_major_ticks():\n",
    "            tick.label.set_fontsize(40)\n",
    "\n",
    "            \n",
    "def plot_single(df, options_chunk, options, metric, rank_resolution):\n",
    "    for names in options_chunk:\n",
    "        col = 6\n",
    "        row = 3\n",
    "        f, axes = plt.subplots(nrows=row, ncols=col, figsize=(48, 14))\n",
    "        for i,name in enumerate(names):\n",
    "            name_others = copy.deepcopy(options)\n",
    "            name_others.remove(name)\n",
    "            df_pivot = pd.pivot_table(df, values=metric, index=name_others, columns=[name], aggfunc=np.mean)\n",
    "            for j,plot_type in enumerate(['performance','rank_bar','rank_violin']):\n",
    "                get_acc(df_pivot, name, axes[j, i], plot_type, has_y=True, rank_resolution=rank_resolution)\n",
    "        plt.tight_layout()\n",
    "        plt.subplots_adjust(wspace=0.5, hspace=0.2)\n",
    "    #     f.savefig('figs/{}.png'.format(metric), dpi=150, bbox_inches='tight')\n",
    "        plt.show()\n",
    "\n",
    "def plot_analysis(fname, division='test', dataset=None, metric='accuracy', rank_resolution=0.001, filter=None, filter_rm=None):\n",
    "    #results_file_path = '../run/results/{}/agg/{}.csv'.format(fname, division)\n",
    "    results_file_path = '../results_experiments/{}/agg/{}.csv'.format(fname, division)\n",
    "    df = pd.read_csv(results_file_path)\n",
    "    df = df.fillna(0)\n",
    "    df['epoch'] += 1\n",
    "    df.replace('skipconcat','skipcat',inplace=True)\n",
    "    df.replace('add','sum',inplace=True)\n",
    "\n",
    "    if filter is not None:\n",
    "        for key, val in filter.items():\n",
    "            if type(val) == list:\n",
    "                df = df[df[key].isin(val)]\n",
    "            else:\n",
    "                df = df[df[key]==val]\n",
    "    if filter_rm is not None:\n",
    "        for key, val in filter_rm.items():\n",
    "            if type(val) == list:\n",
    "                df = df[~df[key].isin(val)]\n",
    "            else:\n",
    "                df = df[df[key]!=val]\n",
    "\n",
    "    # create and filter design dimensions\n",
    "    options_raw = list_exclude(list(df.columns), column_exclude_options)\n",
    "    options = []\n",
    "    for name in options_raw:\n",
    "        column_temp = copy.deepcopy(options_raw)\n",
    "        column_temp.remove(name)\n",
    "        df_pivot = pd.pivot_table(df, values=metric, index=column_temp, columns=[name], aggfunc=np.mean)\n",
    "        if len(df_pivot.columns)!=1:\n",
    "            options.append(name)\n",
    "    options_chunk = list(chunks(options, 6))\n",
    "    print(division, dataset, options_chunk)\n",
    "    \n",
    "    if dataset is None:\n",
    "        for dataset in df['dataset'].unique():\n",
    "            df_dataset = df[df['dataset']==dataset]\n",
    "            print('Dataset: {}'.format(dataset))\n",
    "            plot_single(df_dataset, options_chunk, options, metric, rank_resolution)\n",
    "    elif dataset=='all':\n",
    "        plot_single(df, options_chunk, options, metric, rank_resolution)\n",
    "    else:\n",
    "        df_dataset = df[df['dataset']==dataset]\n",
    "        print('Dataset: {}'.format(dataset))\n",
    "        plot_single(df_dataset, options_chunk, options, metric, rank_resolution)\n",
    "\n"
   ]
  },
  {
   "cell_type": "code",
   "execution_count": 3,
   "metadata": {},
   "outputs": [
    {
     "ename": "FileNotFoundError",
     "evalue": "[Errno 2] No such file or directory: '../results_experiments/ogbg-molhiv_grid_exp1/agg/val.csv'",
     "output_type": "error",
     "traceback": [
      "\u001b[0;31m---------------------------------------------------------------------------\u001b[0m",
      "\u001b[0;31mFileNotFoundError\u001b[0m                         Traceback (most recent call last)",
      "\u001b[1;32m/home/gio/kDrive/ETH/ETH_code/DL-project/notebooks/example.ipynb Cell 2\u001b[0m in \u001b[0;36m<cell line: 2>\u001b[0;34m()\u001b[0m\n\u001b[1;32m      <a href='vscode-notebook-cell:/home/gio/kDrive/ETH/ETH_code/DL-project/notebooks/example.ipynb#W1sZmlsZQ%3D%3D?line=0'>1</a>\u001b[0m experiment_name \u001b[39m=\u001b[39m \u001b[39m'\u001b[39m\u001b[39mogbg-molhiv_grid_exp1\u001b[39m\u001b[39m'\u001b[39m\n\u001b[0;32m----> <a href='vscode-notebook-cell:/home/gio/kDrive/ETH/ETH_code/DL-project/notebooks/example.ipynb#W1sZmlsZQ%3D%3D?line=1'>2</a>\u001b[0m plot_analysis(experiment_name, division\u001b[39m=\u001b[39;49m\u001b[39m'\u001b[39;49m\u001b[39mval\u001b[39;49m\u001b[39m'\u001b[39;49m, dataset\u001b[39m=\u001b[39;49m\u001b[39m'\u001b[39;49m\u001b[39mogbg-molhiv\u001b[39;49m\u001b[39m'\u001b[39;49m, metric\u001b[39m=\u001b[39;49m\u001b[39m'\u001b[39;49m\u001b[39maccuracy\u001b[39;49m\u001b[39m'\u001b[39;49m, rank_resolution\u001b[39m=\u001b[39;49m\u001b[39m0\u001b[39;49m)\n",
      "\u001b[1;32m/home/gio/kDrive/ETH/ETH_code/DL-project/notebooks/example.ipynb Cell 2\u001b[0m in \u001b[0;36mplot_analysis\u001b[0;34m(fname, division, dataset, metric, rank_resolution, filter, filter_rm)\u001b[0m\n\u001b[1;32m    <a href='vscode-notebook-cell:/home/gio/kDrive/ETH/ETH_code/DL-project/notebooks/example.ipynb#W1sZmlsZQ%3D%3D?line=117'>118</a>\u001b[0m \u001b[39mdef\u001b[39;00m \u001b[39mplot_analysis\u001b[39m(fname, division\u001b[39m=\u001b[39m\u001b[39m'\u001b[39m\u001b[39mtest\u001b[39m\u001b[39m'\u001b[39m, dataset\u001b[39m=\u001b[39m\u001b[39mNone\u001b[39;00m, metric\u001b[39m=\u001b[39m\u001b[39m'\u001b[39m\u001b[39maccuracy\u001b[39m\u001b[39m'\u001b[39m, rank_resolution\u001b[39m=\u001b[39m\u001b[39m0.001\u001b[39m, \u001b[39mfilter\u001b[39m\u001b[39m=\u001b[39m\u001b[39mNone\u001b[39;00m, filter_rm\u001b[39m=\u001b[39m\u001b[39mNone\u001b[39;00m):\n\u001b[1;32m    <a href='vscode-notebook-cell:/home/gio/kDrive/ETH/ETH_code/DL-project/notebooks/example.ipynb#W1sZmlsZQ%3D%3D?line=118'>119</a>\u001b[0m     \u001b[39m#results_file_path = '../run/results/{}/agg/{}.csv'.format(fname, division)\u001b[39;00m\n\u001b[1;32m    <a href='vscode-notebook-cell:/home/gio/kDrive/ETH/ETH_code/DL-project/notebooks/example.ipynb#W1sZmlsZQ%3D%3D?line=119'>120</a>\u001b[0m     results_file_path \u001b[39m=\u001b[39m \u001b[39m'\u001b[39m\u001b[39m../results_experiments/\u001b[39m\u001b[39m{}\u001b[39;00m\u001b[39m/agg/\u001b[39m\u001b[39m{}\u001b[39;00m\u001b[39m.csv\u001b[39m\u001b[39m'\u001b[39m\u001b[39m.\u001b[39mformat(fname, division)\n\u001b[0;32m--> <a href='vscode-notebook-cell:/home/gio/kDrive/ETH/ETH_code/DL-project/notebooks/example.ipynb#W1sZmlsZQ%3D%3D?line=120'>121</a>\u001b[0m     df \u001b[39m=\u001b[39m pd\u001b[39m.\u001b[39;49mread_csv(results_file_path)\n\u001b[1;32m    <a href='vscode-notebook-cell:/home/gio/kDrive/ETH/ETH_code/DL-project/notebooks/example.ipynb#W1sZmlsZQ%3D%3D?line=121'>122</a>\u001b[0m     df \u001b[39m=\u001b[39m df\u001b[39m.\u001b[39mfillna(\u001b[39m0\u001b[39m)\n\u001b[1;32m    <a href='vscode-notebook-cell:/home/gio/kDrive/ETH/ETH_code/DL-project/notebooks/example.ipynb#W1sZmlsZQ%3D%3D?line=122'>123</a>\u001b[0m     df[\u001b[39m'\u001b[39m\u001b[39mepoch\u001b[39m\u001b[39m'\u001b[39m] \u001b[39m+\u001b[39m\u001b[39m=\u001b[39m \u001b[39m1\u001b[39m\n",
      "File \u001b[0;32m~/.conda/envs/DL-project/lib/python3.10/site-packages/pandas/util/_decorators.py:211\u001b[0m, in \u001b[0;36mdeprecate_kwarg.<locals>._deprecate_kwarg.<locals>.wrapper\u001b[0;34m(*args, **kwargs)\u001b[0m\n\u001b[1;32m    209\u001b[0m     \u001b[39melse\u001b[39;00m:\n\u001b[1;32m    210\u001b[0m         kwargs[new_arg_name] \u001b[39m=\u001b[39m new_arg_value\n\u001b[0;32m--> 211\u001b[0m \u001b[39mreturn\u001b[39;00m func(\u001b[39m*\u001b[39;49margs, \u001b[39m*\u001b[39;49m\u001b[39m*\u001b[39;49mkwargs)\n",
      "File \u001b[0;32m~/.conda/envs/DL-project/lib/python3.10/site-packages/pandas/util/_decorators.py:331\u001b[0m, in \u001b[0;36mdeprecate_nonkeyword_arguments.<locals>.decorate.<locals>.wrapper\u001b[0;34m(*args, **kwargs)\u001b[0m\n\u001b[1;32m    325\u001b[0m \u001b[39mif\u001b[39;00m \u001b[39mlen\u001b[39m(args) \u001b[39m>\u001b[39m num_allow_args:\n\u001b[1;32m    326\u001b[0m     warnings\u001b[39m.\u001b[39mwarn(\n\u001b[1;32m    327\u001b[0m         msg\u001b[39m.\u001b[39mformat(arguments\u001b[39m=\u001b[39m_format_argument_list(allow_args)),\n\u001b[1;32m    328\u001b[0m         \u001b[39mFutureWarning\u001b[39;00m,\n\u001b[1;32m    329\u001b[0m         stacklevel\u001b[39m=\u001b[39mfind_stack_level(),\n\u001b[1;32m    330\u001b[0m     )\n\u001b[0;32m--> 331\u001b[0m \u001b[39mreturn\u001b[39;00m func(\u001b[39m*\u001b[39;49margs, \u001b[39m*\u001b[39;49m\u001b[39m*\u001b[39;49mkwargs)\n",
      "File \u001b[0;32m~/.conda/envs/DL-project/lib/python3.10/site-packages/pandas/io/parsers/readers.py:950\u001b[0m, in \u001b[0;36mread_csv\u001b[0;34m(filepath_or_buffer, sep, delimiter, header, names, index_col, usecols, squeeze, prefix, mangle_dupe_cols, dtype, engine, converters, true_values, false_values, skipinitialspace, skiprows, skipfooter, nrows, na_values, keep_default_na, na_filter, verbose, skip_blank_lines, parse_dates, infer_datetime_format, keep_date_col, date_parser, dayfirst, cache_dates, iterator, chunksize, compression, thousands, decimal, lineterminator, quotechar, quoting, doublequote, escapechar, comment, encoding, encoding_errors, dialect, error_bad_lines, warn_bad_lines, on_bad_lines, delim_whitespace, low_memory, memory_map, float_precision, storage_options)\u001b[0m\n\u001b[1;32m    935\u001b[0m kwds_defaults \u001b[39m=\u001b[39m _refine_defaults_read(\n\u001b[1;32m    936\u001b[0m     dialect,\n\u001b[1;32m    937\u001b[0m     delimiter,\n\u001b[0;32m   (...)\u001b[0m\n\u001b[1;32m    946\u001b[0m     defaults\u001b[39m=\u001b[39m{\u001b[39m\"\u001b[39m\u001b[39mdelimiter\u001b[39m\u001b[39m\"\u001b[39m: \u001b[39m\"\u001b[39m\u001b[39m,\u001b[39m\u001b[39m\"\u001b[39m},\n\u001b[1;32m    947\u001b[0m )\n\u001b[1;32m    948\u001b[0m kwds\u001b[39m.\u001b[39mupdate(kwds_defaults)\n\u001b[0;32m--> 950\u001b[0m \u001b[39mreturn\u001b[39;00m _read(filepath_or_buffer, kwds)\n",
      "File \u001b[0;32m~/.conda/envs/DL-project/lib/python3.10/site-packages/pandas/io/parsers/readers.py:605\u001b[0m, in \u001b[0;36m_read\u001b[0;34m(filepath_or_buffer, kwds)\u001b[0m\n\u001b[1;32m    602\u001b[0m _validate_names(kwds\u001b[39m.\u001b[39mget(\u001b[39m\"\u001b[39m\u001b[39mnames\u001b[39m\u001b[39m\"\u001b[39m, \u001b[39mNone\u001b[39;00m))\n\u001b[1;32m    604\u001b[0m \u001b[39m# Create the parser.\u001b[39;00m\n\u001b[0;32m--> 605\u001b[0m parser \u001b[39m=\u001b[39m TextFileReader(filepath_or_buffer, \u001b[39m*\u001b[39;49m\u001b[39m*\u001b[39;49mkwds)\n\u001b[1;32m    607\u001b[0m \u001b[39mif\u001b[39;00m chunksize \u001b[39mor\u001b[39;00m iterator:\n\u001b[1;32m    608\u001b[0m     \u001b[39mreturn\u001b[39;00m parser\n",
      "File \u001b[0;32m~/.conda/envs/DL-project/lib/python3.10/site-packages/pandas/io/parsers/readers.py:1442\u001b[0m, in \u001b[0;36mTextFileReader.__init__\u001b[0;34m(self, f, engine, **kwds)\u001b[0m\n\u001b[1;32m   1439\u001b[0m     \u001b[39mself\u001b[39m\u001b[39m.\u001b[39moptions[\u001b[39m\"\u001b[39m\u001b[39mhas_index_names\u001b[39m\u001b[39m\"\u001b[39m] \u001b[39m=\u001b[39m kwds[\u001b[39m\"\u001b[39m\u001b[39mhas_index_names\u001b[39m\u001b[39m\"\u001b[39m]\n\u001b[1;32m   1441\u001b[0m \u001b[39mself\u001b[39m\u001b[39m.\u001b[39mhandles: IOHandles \u001b[39m|\u001b[39m \u001b[39mNone\u001b[39;00m \u001b[39m=\u001b[39m \u001b[39mNone\u001b[39;00m\n\u001b[0;32m-> 1442\u001b[0m \u001b[39mself\u001b[39m\u001b[39m.\u001b[39m_engine \u001b[39m=\u001b[39m \u001b[39mself\u001b[39;49m\u001b[39m.\u001b[39;49m_make_engine(f, \u001b[39mself\u001b[39;49m\u001b[39m.\u001b[39;49mengine)\n",
      "File \u001b[0;32m~/.conda/envs/DL-project/lib/python3.10/site-packages/pandas/io/parsers/readers.py:1735\u001b[0m, in \u001b[0;36mTextFileReader._make_engine\u001b[0;34m(self, f, engine)\u001b[0m\n\u001b[1;32m   1733\u001b[0m     \u001b[39mif\u001b[39;00m \u001b[39m\"\u001b[39m\u001b[39mb\u001b[39m\u001b[39m\"\u001b[39m \u001b[39mnot\u001b[39;00m \u001b[39min\u001b[39;00m mode:\n\u001b[1;32m   1734\u001b[0m         mode \u001b[39m+\u001b[39m\u001b[39m=\u001b[39m \u001b[39m\"\u001b[39m\u001b[39mb\u001b[39m\u001b[39m\"\u001b[39m\n\u001b[0;32m-> 1735\u001b[0m \u001b[39mself\u001b[39m\u001b[39m.\u001b[39mhandles \u001b[39m=\u001b[39m get_handle(\n\u001b[1;32m   1736\u001b[0m     f,\n\u001b[1;32m   1737\u001b[0m     mode,\n\u001b[1;32m   1738\u001b[0m     encoding\u001b[39m=\u001b[39;49m\u001b[39mself\u001b[39;49m\u001b[39m.\u001b[39;49moptions\u001b[39m.\u001b[39;49mget(\u001b[39m\"\u001b[39;49m\u001b[39mencoding\u001b[39;49m\u001b[39m\"\u001b[39;49m, \u001b[39mNone\u001b[39;49;00m),\n\u001b[1;32m   1739\u001b[0m     compression\u001b[39m=\u001b[39;49m\u001b[39mself\u001b[39;49m\u001b[39m.\u001b[39;49moptions\u001b[39m.\u001b[39;49mget(\u001b[39m\"\u001b[39;49m\u001b[39mcompression\u001b[39;49m\u001b[39m\"\u001b[39;49m, \u001b[39mNone\u001b[39;49;00m),\n\u001b[1;32m   1740\u001b[0m     memory_map\u001b[39m=\u001b[39;49m\u001b[39mself\u001b[39;49m\u001b[39m.\u001b[39;49moptions\u001b[39m.\u001b[39;49mget(\u001b[39m\"\u001b[39;49m\u001b[39mmemory_map\u001b[39;49m\u001b[39m\"\u001b[39;49m, \u001b[39mFalse\u001b[39;49;00m),\n\u001b[1;32m   1741\u001b[0m     is_text\u001b[39m=\u001b[39;49mis_text,\n\u001b[1;32m   1742\u001b[0m     errors\u001b[39m=\u001b[39;49m\u001b[39mself\u001b[39;49m\u001b[39m.\u001b[39;49moptions\u001b[39m.\u001b[39;49mget(\u001b[39m\"\u001b[39;49m\u001b[39mencoding_errors\u001b[39;49m\u001b[39m\"\u001b[39;49m, \u001b[39m\"\u001b[39;49m\u001b[39mstrict\u001b[39;49m\u001b[39m\"\u001b[39;49m),\n\u001b[1;32m   1743\u001b[0m     storage_options\u001b[39m=\u001b[39;49m\u001b[39mself\u001b[39;49m\u001b[39m.\u001b[39;49moptions\u001b[39m.\u001b[39;49mget(\u001b[39m\"\u001b[39;49m\u001b[39mstorage_options\u001b[39;49m\u001b[39m\"\u001b[39;49m, \u001b[39mNone\u001b[39;49;00m),\n\u001b[1;32m   1744\u001b[0m )\n\u001b[1;32m   1745\u001b[0m \u001b[39massert\u001b[39;00m \u001b[39mself\u001b[39m\u001b[39m.\u001b[39mhandles \u001b[39mis\u001b[39;00m \u001b[39mnot\u001b[39;00m \u001b[39mNone\u001b[39;00m\n\u001b[1;32m   1746\u001b[0m f \u001b[39m=\u001b[39m \u001b[39mself\u001b[39m\u001b[39m.\u001b[39mhandles\u001b[39m.\u001b[39mhandle\n",
      "File \u001b[0;32m~/.conda/envs/DL-project/lib/python3.10/site-packages/pandas/io/common.py:856\u001b[0m, in \u001b[0;36mget_handle\u001b[0;34m(path_or_buf, mode, encoding, compression, memory_map, is_text, errors, storage_options)\u001b[0m\n\u001b[1;32m    851\u001b[0m \u001b[39melif\u001b[39;00m \u001b[39misinstance\u001b[39m(handle, \u001b[39mstr\u001b[39m):\n\u001b[1;32m    852\u001b[0m     \u001b[39m# Check whether the filename is to be opened in binary mode.\u001b[39;00m\n\u001b[1;32m    853\u001b[0m     \u001b[39m# Binary mode does not support 'encoding' and 'newline'.\u001b[39;00m\n\u001b[1;32m    854\u001b[0m     \u001b[39mif\u001b[39;00m ioargs\u001b[39m.\u001b[39mencoding \u001b[39mand\u001b[39;00m \u001b[39m\"\u001b[39m\u001b[39mb\u001b[39m\u001b[39m\"\u001b[39m \u001b[39mnot\u001b[39;00m \u001b[39min\u001b[39;00m ioargs\u001b[39m.\u001b[39mmode:\n\u001b[1;32m    855\u001b[0m         \u001b[39m# Encoding\u001b[39;00m\n\u001b[0;32m--> 856\u001b[0m         handle \u001b[39m=\u001b[39m \u001b[39mopen\u001b[39;49m(\n\u001b[1;32m    857\u001b[0m             handle,\n\u001b[1;32m    858\u001b[0m             ioargs\u001b[39m.\u001b[39;49mmode,\n\u001b[1;32m    859\u001b[0m             encoding\u001b[39m=\u001b[39;49mioargs\u001b[39m.\u001b[39;49mencoding,\n\u001b[1;32m    860\u001b[0m             errors\u001b[39m=\u001b[39;49merrors,\n\u001b[1;32m    861\u001b[0m             newline\u001b[39m=\u001b[39;49m\u001b[39m\"\u001b[39;49m\u001b[39m\"\u001b[39;49m,\n\u001b[1;32m    862\u001b[0m         )\n\u001b[1;32m    863\u001b[0m     \u001b[39melse\u001b[39;00m:\n\u001b[1;32m    864\u001b[0m         \u001b[39m# Binary mode\u001b[39;00m\n\u001b[1;32m    865\u001b[0m         handle \u001b[39m=\u001b[39m \u001b[39mopen\u001b[39m(handle, ioargs\u001b[39m.\u001b[39mmode)\n",
      "\u001b[0;31mFileNotFoundError\u001b[0m: [Errno 2] No such file or directory: '../results_experiments/ogbg-molhiv_grid_exp1/agg/val.csv'"
     ]
    }
   ],
   "source": [
    "experiment_name = 'ogbg-molhiv_grid_exp1'\n",
    "plot_analysis(experiment_name, division='val', dataset='ogbg-molhiv', metric='accuracy', rank_resolution=0)"
   ]
  },
  {
   "cell_type": "code",
   "execution_count": null,
   "metadata": {},
   "outputs": [
    {
     "ename": "",
     "evalue": "",
     "output_type": "error",
     "traceback": [
      "\u001b[1;31mRunning cells with 'Python 3.10.8 ('DL-project')' requires ipykernel package.\n",
      "\u001b[1;31mRun the following command to install 'ipykernel' into the Python environment. \n",
      "\u001b[1;31mCommand: 'conda install -n DL-project ipykernel --update-deps --force-reinstall'"
     ]
    }
   ],
   "source": [
    "# analysis for all dataset in the batch\n",
    "plot_analysis(experiment_name, division='val', dataset=\"all\", metric='accuracy', rank_resolution=0)"
   ]
  },
  {
   "cell_type": "code",
   "execution_count": null,
   "metadata": {
    "scrolled": false
   },
   "outputs": [
    {
     "ename": "",
     "evalue": "",
     "output_type": "error",
     "traceback": [
      "\u001b[1;31mRunning cells with 'Python 3.10.8 ('DL-project')' requires ipykernel package.\n",
      "\u001b[1;31mRun the following command to install 'ipykernel' into the Python environment. \n",
      "\u001b[1;31mCommand: 'conda install -n DL-project ipykernel --update-deps --force-reinstall'"
     ]
    }
   ],
   "source": [
    "# analysis for each dataset in the batch\n",
    "plot_analysis(experiment_name, division='val', dataset=None, metric='accuracy', rank_resolution=0)"
   ]
  }
 ],
 "metadata": {
  "kernelspec": {
   "display_name": "Python 3.10.8 ('DL-project')",
   "language": "python",
   "name": "python3"
  },
  "language_info": {
   "codemirror_mode": {
    "name": "ipython",
    "version": 3
   },
   "file_extension": ".py",
   "mimetype": "text/x-python",
   "name": "python",
   "nbconvert_exporter": "python",
   "pygments_lexer": "ipython3",
   "version": "3.10.8"
  },
  "vscode": {
   "interpreter": {
    "hash": "5fcd6d9c67b4a4acea8714ef13999f72ed629a4e4eeb1bdfa618f274db675ab7"
   }
  }
 },
 "nbformat": 4,
 "nbformat_minor": 4
}
