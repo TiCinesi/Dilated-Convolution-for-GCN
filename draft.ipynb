{
 "cells": [
  {
   "cell_type": "code",
   "execution_count": 7,
   "metadata": {},
   "outputs": [],
   "source": [
    "import networkx as nx\n",
    "import random \n",
    "import math"
   ]
  },
  {
   "cell_type": "code",
   "execution_count": 12,
   "metadata": {},
   "outputs": [],
   "source": [
    "G = nx.Graph()\n",
    "\n",
    "nx.add_path(G, [0,1,3,5])\n",
    "nx.add_path(G, [1,4,5])\n",
    "nx.add_path(G, [0,2,3])\n",
    "nx.add_path(G, [0,2,4])\n",
    "nx.add_path(G, [0,1,4])\n",
    "nx.add_path(G, [0,6])"
   ]
  },
  {
   "cell_type": "code",
   "execution_count": 10,
   "metadata": {},
   "outputs": [],
   "source": [
    "def random_neighbours(l):\n",
    "    a = list(l)\n",
    "    random.shuffle(a)\n",
    "    return iter(a)"
   ]
  },
  {
   "cell_type": "code",
   "execution_count": 11,
   "metadata": {},
   "outputs": [
    {
     "data": {
      "text/plain": [
       "<networkx.classes.digraph.DiGraph at 0x7f7df791ed60>"
      ]
     },
     "execution_count": 11,
     "metadata": {},
     "output_type": "execute_result"
    }
   ],
   "source": [
    "nx.bfs_tree(H, source=6, depth_limit=None, sort_neighbors=random_neighbours)"
   ]
  },
  {
   "cell_type": "code",
   "execution_count": null,
   "metadata": {},
   "outputs": [],
   "source": [
    "k2 = 1\n",
    "k1 = 1\n",
    "num_samples = 1"
   ]
  },
  {
   "cell_type": "code",
   "execution_count": null,
   "metadata": {},
   "outputs": [],
   "source": [
    "distance_graphs = []\n",
    "for _ in range(k2):\n",
    "    distance_graphs.append(nx.Graph())"
   ]
  },
  {
   "cell_type": "code",
   "execution_count": null,
   "metadata": {},
   "outputs": [],
   "source": [
    "#Create edge feature matrix with shape [num_rand_sample, num_edges, d, feature_size]"
   ]
  },
  {
   "cell_type": "code",
   "execution_count": null,
   "metadata": {},
   "outputs": [],
   "source": [
    "edge_attr = None # torch.size(num_edge, feature_size)"
   ]
  },
  {
   "cell_type": "code",
   "execution_count": null,
   "metadata": {},
   "outputs": [],
   "source": [
    "def get_edge_id(e):\n",
    "    pass \n",
    "\n",
    "dist_layes = None \n",
    "\n",
    "for s in range(num_samples):\n",
    "    \n",
    "    #sampled_path_features = [] # num_edges x torch.Size([d, feature_size])\n",
    "    sampled_path_features_id = [] # num_edges x d\n",
    "\n",
    "    for v in range(6):\n",
    "        bsf_tree = nx.bfs_tree(G, source=v, depth_limit=None, sort_neighbors=random_neighbours)\n",
    "        \n",
    "        if s < 1: #compute only on first sample\n",
    "            dist_layes = dict(enumerate(nx.bfs_layers(bsf_tree, [v])))\n",
    "\n",
    "        for i in range(k2):\n",
    "            d = 2*math.pow(3, i)*k1\n",
    "                    \n",
    "            if not d in dist_layes.keys(): #new\n",
    "                continue\n",
    "\n",
    "            for u in dist_layes[d]:\n",
    "\n",
    "                if s < 1: #save only on first sample\n",
    "                    distance_graphs[i].add_edge(v, u)\n",
    "\n",
    "                edges_on_u_v_path = list(nx.dfs_edges(G, source=u))\n",
    "                edge_feature_id = []\n",
    "                for e in edges_on_u_v_path:\n",
    "                    edge_feature_id.append(get_edge_id(e))\n",
    "                sampled_path_features_id.append(edge_feature_id)\n",
    "\n",
    "        \n"
   ]
  },
  {
   "cell_type": "code",
   "execution_count": null,
   "metadata": {},
   "outputs": [],
   "source": [
    "# torch.size(num_edge, feature_size)\n",
    "# num_edges x d"
   ]
  },
  {
   "cell_type": "code",
   "execution_count": 5,
   "metadata": {},
   "outputs": [],
   "source": [
    " # print(sorted(list(nx.bfs_tree(H, source=6, depth_limit=None, sort_neighbors=random_neighbours).edges())))\n",
    "\n",
    "        # Compute bsf tree\n",
    "        # Find layer with nodes (distance = d)\n",
    "        # Reverse edges, run DFS from each node\n",
    "        # Get edge id via hash map\n",
    "        # Create edge feature matrix with shape [num_edges, d, feature_size]\n",
    "        #   (Or also can aggregate here, when p as hypeparameter)\n",
    "        #\n"
   ]
  }
 ],
 "metadata": {
  "kernelspec": {
   "display_name": "Python 3.8.15 ('DL-project')",
   "language": "python",
   "name": "python3"
  },
  "language_info": {
   "codemirror_mode": {
    "name": "ipython",
    "version": 3
   },
   "file_extension": ".py",
   "mimetype": "text/x-python",
   "name": "python",
   "nbconvert_exporter": "python",
   "pygments_lexer": "ipython3",
   "version": "3.8.15"
  },
  "orig_nbformat": 4,
  "vscode": {
   "interpreter": {
    "hash": "0ee38be4b4250981cce4d59cef6d089c1563ec2440158cf188f3c535e41f9e82"
   }
  }
 },
 "nbformat": 4,
 "nbformat_minor": 2
}
